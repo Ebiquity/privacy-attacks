{
 "cells": [
  {
   "cell_type": "markdown",
   "metadata": {},
   "source": [
    "# Simple Reidentifaction Attack"
   ]
  },
  {
   "cell_type": "markdown",
   "metadata": {},
   "source": [
    "Simple example that performs a reidentification attack on network data and synthetically generated network data.<br>\n",
    "Example based on smarnoise-samples/whitepaper-demos"
   ]
  },
  {
   "cell_type": "code",
   "execution_count": 2,
   "metadata": {},
   "outputs": [],
   "source": [
    "import pandas as pd\n",
    "import numpy as np\n",
    "from tqdm import tqdm"
   ]
  },
  {
   "cell_type": "code",
   "execution_count": 3,
   "metadata": {},
   "outputs": [],
   "source": [
    "# path to the original network data\n",
    "networkData = '../data/network_traffic_data.csv'\n",
    "# path to the synthetic data\n",
    "#syntheticData = '../data/generated_network_traffic_data.csv'\n",
    "syntheticData = '../data/dp_generated_network_traffic_data.csv'\n",
    "\n",
    "# Read files\n",
    "# assume attack has the entire original network dataset\n",
    "df_network = pd.read_csv(networkData, sep=\",\", encoding=\"utf-8\").infer_objects()\n",
    "df_synth = pd.read_csv(syntheticData, sep=\",\", encoding=\"utf-8\").infer_objects()\n"
   ]
  },
  {
   "cell_type": "code",
   "execution_count": 4,
   "metadata": {},
   "outputs": [],
   "source": [
    "def try_reidentification_noise(synth, net):\n",
    "    reident = pd.DataFrame(columns = synth.columns)\n",
    "    net_data = net.copy()\n",
    "    for index, row in tqdm(net_data.iterrows(), total=net_data.shape[0]):\n",
    "        # Here list all columns that are needed for reidentification\n",
    "        # will try to find a match between rows in the synthetic data and the information\n",
    "        # the attacker has (original network dataset)\n",
    "        filtered = synth.loc[(synth['Protocol'] == row['Protocol']) & (synth['Destination Port'] == row['Destination Port'])\n",
    "                             & (synth['Source Port'] == row['Source Port']) & (synth['Destination'] == row['Destination'])\n",
    "                             & (synth['Time'] == row['Time'])]\n",
    "        # potential match\n",
    "        if len(filtered) != 0:\n",
    "            reident = pd.concat([reident,filtered])\n",
    "\n",
    "    print(f\"Identified {len(reident)} potential matches!\")\n",
    "    return reident"
   ]
  },
  {
   "cell_type": "code",
   "execution_count": 5,
   "metadata": {},
   "outputs": [
    {
     "name": "stderr",
     "output_type": "stream",
     "text": [
      "100%|██████████| 778792/778792 [6:52:28<00:00, 31.47it/s]       \n"
     ]
    },
    {
     "name": "stdout",
     "output_type": "stream",
     "text": [
      "Identified 0 potential matches!\n"
     ]
    }
   ],
   "source": [
    "# Perform the attack - No matches found\n",
    "reident_attack = try_reidentification_noise(df_synth, df_network)"
   ]
  },
  {
   "cell_type": "code",
   "execution_count": 6,
   "metadata": {},
   "outputs": [
    {
     "name": "stdout",
     "output_type": "stream",
     "text": [
      "Empty DataFrame\n",
      "Columns: [No., Time, Source, Source Port, Destination, Destination Port, Protocol, Length, Info]\n",
      "Index: []\n"
     ]
    }
   ],
   "source": [
    "print(reident_attack)"
   ]
  }
 ],
 "metadata": {
  "kernelspec": {
   "display_name": "smartnoise1",
   "language": "python",
   "name": "python3"
  },
  "language_info": {
   "codemirror_mode": {
    "name": "ipython",
    "version": 3
   },
   "file_extension": ".py",
   "mimetype": "text/x-python",
   "name": "python",
   "nbconvert_exporter": "python",
   "pygments_lexer": "ipython3",
   "version": "3.9.18"
  },
  "orig_nbformat": 4
 },
 "nbformat": 4,
 "nbformat_minor": 2
}
