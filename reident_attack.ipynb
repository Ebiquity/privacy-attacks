{
 "cells": [
  {
   "cell_type": "markdown",
   "metadata": {},
   "source": [
    "# Simple Reidentifaction Attack"
   ]
  },
  {
   "cell_type": "markdown",
   "metadata": {},
   "source": [
    "Simple example that performs a reidentification attack on network data and synthetically generated network data.<br>\n",
    "Example based on smarnoise-samples/whitepaper-demos"
   ]
  },
  {
   "cell_type": "code",
   "execution_count": 182,
   "metadata": {},
   "outputs": [],
   "source": [
    "import pandas as pd\n",
    "import numpy as np\n",
    "from tqdm import tqdm"
   ]
  },
  {
   "cell_type": "code",
   "execution_count": 183,
   "metadata": {},
   "outputs": [],
   "source": [
    "# path to the folder containg data csv\n",
    "dataPath = '../data/New_NETWORK_TEST/NEW_NETWORK_TEST/'"
   ]
  },
  {
   "cell_type": "code",
   "execution_count": 184,
   "metadata": {},
   "outputs": [],
   "source": [
    "# Read files\n",
    "# assume attack has the entire original network dataset\n",
    "def readCSV(data, drop=None):\n",
    "    # data is the path of the csv file\n",
    "    try:\n",
    "        df_data = pd.read_csv(data, sep=\",\", encoding=\"utf-8\").infer_objects()\n",
    "        if drop:\n",
    "            try:\n",
    "                df_data = df_data.drop(drop, axis=1)\n",
    "            except:\n",
    "                print(f'Cannot drop column {drop} from dataframe. Column {drop} not found')\n",
    "\n",
    "    except Exception as e:\n",
    "        print(e)\n",
    "        df_data = None\n",
    "    \n",
    "    return df_data"
   ]
  },
  {
   "cell_type": "code",
   "execution_count": 185,
   "metadata": {},
   "outputs": [],
   "source": [
    "# Given a df of indices of potential matches (matches), the original and synthethic data,\n",
    "# return a dataframe of the appropriate rows from original and synth\n",
    "def get_matches(matches, original, synth):\n",
    "    col = pd.concat([pd.Series('index_original'), pd.Series(original.columns+'_original'), pd.Series('index_synth'), pd.Series(synth.columns+'_synth')]) \n",
    "    match_data = pd.DataFrame(columns=col)\n",
    "    for index, row in matches.iterrows():\n",
    "        original_row = [row[0]] + original.iloc[row[0],:].tolist()\n",
    "        synth_row = [row[1]] + synth.iloc[row[1],:].tolist()       \n",
    "        temp = pd.DataFrame([original_row + synth_row], columns=col)\n",
    "        match_data = pd.concat([match_data, temp])\n",
    "        \n",
    "    return match_data"
   ]
  },
  {
   "cell_type": "code",
   "execution_count": 187,
   "metadata": {},
   "outputs": [],
   "source": [
    "def try_reidentification_noise2(synth, net):\n",
    "    col = pd.concat([pd.Series('index_original'), pd.Series(net.columns+'_original'), pd.Series('index_synth'), pd.Series(synth.columns+'_synth')]) \n",
    "   \n",
    "    reident_50 = pd.DataFrame(columns=['index_original', 'index_synth']) # 50% match\n",
    "    reident_75 = pd.DataFrame(columns= ['index_original', 'index_synth']) # 75% match\n",
    "    reident_100 = pd.DataFrame(columns= ['index_original', 'index_synth']) # 100% match\n",
    "    \n",
    "    num_columns = len(net.columns)\n",
    "    percent_50 = int(np.round(num_columns/2)) # num of matched columns for 50%\n",
    "    percent_75 = int(np.round((3*num_columns)/4)) # num of matched columns for 75%\n",
    "\n",
    "    for index1, row1 in tqdm(net.iterrows(), total=net.shape[0]):\n",
    "            # Here list all columns that are needed for reidentification\n",
    "            # will try to find a match between rows in the synthetic data and the information\n",
    "            # the attacker has (original network dataset)\n",
    "            for index2, row2 in synth.iterrows():\n",
    "                # get the num of columns that match for row1 and row2\n",
    "                match = sum((row1 == row2).astype(int).tolist())\n",
    "                \n",
    "                # determine possible reidentification\n",
    "                # Don't double count, i.e. match of 75% will not appera as match of > 25%\n",
    "                if match == num_columns:\n",
    "                    temp = pd.DataFrame([[index1, index2]], columns=['index_original', 'index_synth'])\n",
    "                    reident_100 = pd.concat([reident_100, temp])\n",
    "                elif match >= percent_75:\n",
    "                    temp = pd.DataFrame([[index1, index2]], columns=['index_original', 'index_synth'])\n",
    "                    reident_75 = pd.concat([reident_75, temp])\n",
    "                elif match >= percent_50:\n",
    "                    temp = pd.DataFrame([[index1, index2]], columns=['index_original', 'index_synth'])\n",
    "                    reident_50 = pd.concat([reident_50, temp])\n",
    "    \n",
    "    print(f\"Identified {len(reident_100)} potential matches (100%)!\")\n",
    "    print(f\"Identified {len(reident_75)} potential matches (75%)!\")\n",
    "    print(f\"Identified {len(reident_50)} potential matches (50%)!\")\n",
    "    return reident_100, reident_75, reident_50"
   ]
  },
  {
   "cell_type": "code",
   "execution_count": 188,
   "metadata": {},
   "outputs": [],
   "source": [
    "original = readCSV(dataPath+'original.csv', drop='Attack')"
   ]
  },
  {
   "cell_type": "code",
   "execution_count": 189,
   "metadata": {},
   "outputs": [
    {
     "name": "stderr",
     "output_type": "stream",
     "text": [
      "  0%|          | 0/1028 [00:00<?, ?it/s]"
     ]
    },
    {
     "name": "stderr",
     "output_type": "stream",
     "text": [
      "100%|██████████| 1028/1028 [02:01<00:00,  8.48it/s]"
     ]
    },
    {
     "name": "stdout",
     "output_type": "stream",
     "text": [
      "Identified 0 potential matches (100%)!\n",
      "Identified 0 potential matches (75%)!\n",
      "Identified 9 potential matches (50%)!\n"
     ]
    },
    {
     "name": "stderr",
     "output_type": "stream",
     "text": [
      "\n"
     ]
    }
   ],
   "source": [
    "ctgan_1 = readCSV(dataPath+'ctgan_1.csv', drop='Attack')\n",
    "ct_gan_1_attack_100, ct_gan_1_attack_75, ct_gan_1_attack_50 = try_reidentification_noise2(ctgan_1, original)"
   ]
  },
  {
   "cell_type": "code",
   "execution_count": 190,
   "metadata": {},
   "outputs": [
    {
     "name": "stdout",
     "output_type": "stream",
     "text": [
      "  index_original  Time_original Source_original Source Port_original  \\\n",
      "0             10          66.15       CAMERA_IP      CAM_TO_DOM_PORT   \n",
      "0             11           0.05       CAMERA_IP      CAM_TO_DOM_PORT   \n",
      "0             12          28.72       CAMERA_IP      CAM_TO_DOM_PORT   \n",
      "0             15           0.02       DOMAIN_IP             DOM_PORT   \n",
      "0             21           0.03       DOMAIN_IP             DOM_PORT   \n",
      "0             45           0.03       CAMERA_IP      CAM_TO_DOM_PORT   \n",
      "0             50           0.13       CAMERA_IP      CAM_TO_DOM_PORT   \n",
      "0             68           0.30       CAMERA_IP      CAM_TO_DOM_PORT   \n",
      "0            555           0.22       CAMERA_IP      CAM_TO_DOM_PORT   \n",
      "\n",
      "  Destination_original Destination Port_original Protocol_original  \\\n",
      "0            DOMAIN_IP                  DOM_PORT               TCP   \n",
      "0            DOMAIN_IP                  DOM_PORT               TCP   \n",
      "0            DOMAIN_IP                  DOM_PORT               TCP   \n",
      "0            CAMERA_IP           CAM_TO_DOM_PORT               TCP   \n",
      "0            CAMERA_IP           CAM_TO_DOM_PORT               TCP   \n",
      "0            DOMAIN_IP                  DOM_PORT               TCP   \n",
      "0            DOMAIN_IP                  DOM_PORT               TCP   \n",
      "0            DOMAIN_IP                  DOM_PORT               TCP   \n",
      "0            DOMAIN_IP                  DOM_PORT               TCP   \n",
      "\n",
      "  Length_original repeats_original          Event_original  ...  \\\n",
      "0              62                1                 TCP_SYN  ...   \n",
      "0              62                3                 TCP_SYN  ...   \n",
      "0              62                8                 TCP_SYN  ...   \n",
      "0              58                1             TCP_SYN_ACK  ...   \n",
      "0              58                1             TCP_SYN_ACK  ...   \n",
      "0             129                1         TCP_CAM_PSH_ACK  ...   \n",
      "0             129              124        TCP_Out_Of_Order  ...   \n",
      "0             129             6432  TCP_PSH_Retransmission  ...   \n",
      "0            1467                3         TCP_CAM_PSH_ACK  ...   \n",
      "\n",
      "   Destination Port_synth  Protocol_synth  Length_synth  repeats_synth  \\\n",
      "0                DOM_PORT             TCP            62          26605   \n",
      "0                DOM_PORT             TCP            62          26605   \n",
      "0                DOM_PORT             TCP            62          26605   \n",
      "0                DOM_PORT             TCP            58          24421   \n",
      "0                DOM_PORT             TCP            58          24421   \n",
      "0                DOM_PORT             TCP           129           1669   \n",
      "0                DOM_PORT             TCP           129           1669   \n",
      "0                DOM_PORT             TCP           129           1669   \n",
      "0                DOM_PORT             TCP           331            268   \n",
      "\n",
      "               Event_synth Seq_synth  Ack_synth Win_synth Len_synth MSS_synth  \n",
      "0    TCP_DOM_Duplicate_ACK   37337.0    13316.0   32120.0       0.0    1460.0  \n",
      "0    TCP_DOM_Duplicate_ACK   37337.0    13316.0   32120.0       0.0    1460.0  \n",
      "0    TCP_DOM_Duplicate_ACK   37337.0    13316.0   32120.0       0.0    1460.0  \n",
      "0  TLS_Server_Key_Exchange  383522.0   314285.0   26883.0     338.0    1460.0  \n",
      "0  TLS_Server_Key_Exchange  383522.0   314285.0   26883.0     338.0    1460.0  \n",
      "0             DNS_Response  421673.0   199832.0   33580.0      75.0       NaN  \n",
      "0             DNS_Response  421673.0   199832.0   33580.0      75.0       NaN  \n",
      "0             DNS_Response  421673.0   199832.0   33580.0      75.0       NaN  \n",
      "0         TLS_Client_Hello  192767.0   198419.0   64998.0    1413.0    1460.0  \n",
      "\n",
      "[9 rows x 30 columns]\n"
     ]
    }
   ],
   "source": [
    "ct_gan_1_attack_50_matches = get_matches(ct_gan_1_attack_50, original, ctgan_1)\n",
    "print(ct_gan_1_attack_50_matches)"
   ]
  },
  {
   "cell_type": "code",
   "execution_count": null,
   "metadata": {},
   "outputs": [],
   "source": [
    "ctgan_2 = readCSV(dataPath+'ctgan_2.csv')"
   ]
  },
  {
   "cell_type": "code",
   "execution_count": null,
   "metadata": {},
   "outputs": [],
   "source": [
    "ctgan_dp_clip = readCSV(dataPath+'ctgan_dp_clip.csv')"
   ]
  },
  {
   "cell_type": "code",
   "execution_count": null,
   "metadata": {},
   "outputs": [],
   "source": [
    "ctgan_dp_gan = readCSV(dataPath+'ctgan_dp_gan.csv')"
   ]
  },
  {
   "cell_type": "code",
   "execution_count": null,
   "metadata": {},
   "outputs": [],
   "source": [
    "ctgan_dp_sgd = readCSV(dataPath+'ctgan_dp_sgd.csv')"
   ]
  },
  {
   "cell_type": "code",
   "execution_count": null,
   "metadata": {},
   "outputs": [],
   "source": [
    "kg_ctgan = readCSV(dataPath+'kg_ctgan.csv')"
   ]
  },
  {
   "cell_type": "code",
   "execution_count": null,
   "metadata": {},
   "outputs": [],
   "source": [
    "octgan = readCSV(dataPath+'octgan.csv')"
   ]
  },
  {
   "cell_type": "code",
   "execution_count": null,
   "metadata": {},
   "outputs": [],
   "source": [
    "pategan = readCSV(dataPath+'pategan.csv')"
   ]
  },
  {
   "cell_type": "code",
   "execution_count": null,
   "metadata": {},
   "outputs": [],
   "source": [
    "tablegan = readCSV(dataPath+'tablegan.csv')"
   ]
  },
  {
   "cell_type": "code",
   "execution_count": null,
   "metadata": {},
   "outputs": [],
   "source": [
    "tvae_1 = readCSV(dataPath+'tvae_1.csv')"
   ]
  },
  {
   "cell_type": "code",
   "execution_count": null,
   "metadata": {},
   "outputs": [],
   "source": [
    "tvae_2 = readCSV(dataPath+'tvae_2.csv')"
   ]
  },
  {
   "cell_type": "markdown",
   "metadata": {},
   "source": [
    "OLD"
   ]
  },
  {
   "cell_type": "code",
   "execution_count": null,
   "metadata": {},
   "outputs": [],
   "source": [
    "def try_reidentification_noise(synth, net):\n",
    "    reident = pd.DataFrame(columns = synth.columns)\n",
    "    net_data = net.copy()\n",
    "    for index, row in tqdm(net_data.iterrows(), total=net_data.shape[0]):\n",
    "        # Here list all columns that are needed for reidentification\n",
    "        # will try to find a match between rows in the synthetic data and the information\n",
    "        # the attacker has (original network dataset)\n",
    "        filtered = synth.loc[(synth['Protocol'] == row['Protocol']) & (synth['Destination Port'] == row['Destination Port'])\n",
    "                             & (synth['Source Port'] == row['Source Port']) & (synth['Destination'] == row['Destination'])\n",
    "        ]#& (synth['Time'] == row['Time'])]\n",
    "        # potential match\n",
    "        if len(filtered) != 0:\n",
    "            reident = pd.concat([reident,filtered])\n",
    "        print(filtered)\n",
    "        break\n",
    "\n",
    "    print(f\"Identified {len(reident)} potential matches!\")\n",
    "    return reident"
   ]
  },
  {
   "cell_type": "code",
   "execution_count": 5,
   "metadata": {},
   "outputs": [
    {
     "name": "stderr",
     "output_type": "stream",
     "text": [
      "100%|██████████| 778792/778792 [6:52:28<00:00, 31.47it/s]       \n"
     ]
    },
    {
     "name": "stdout",
     "output_type": "stream",
     "text": [
      "Identified 0 potential matches!\n"
     ]
    }
   ],
   "source": [
    "# Perform the attack - No matches found\n",
    "reident_attack = try_reidentification_noise(df_synth, df_network)"
   ]
  },
  {
   "cell_type": "code",
   "execution_count": 6,
   "metadata": {},
   "outputs": [
    {
     "name": "stdout",
     "output_type": "stream",
     "text": [
      "Empty DataFrame\n",
      "Columns: [No., Time, Source, Source Port, Destination, Destination Port, Protocol, Length, Info]\n",
      "Index: []\n"
     ]
    }
   ],
   "source": [
    "print(reident_attack)"
   ]
  }
 ],
 "metadata": {
  "kernelspec": {
   "display_name": "smartnoise1",
   "language": "python",
   "name": "python3"
  },
  "language_info": {
   "codemirror_mode": {
    "name": "ipython",
    "version": 3
   },
   "file_extension": ".py",
   "mimetype": "text/x-python",
   "name": "python",
   "nbconvert_exporter": "python",
   "pygments_lexer": "ipython3",
   "version": "3.9.18"
  },
  "orig_nbformat": 4
 },
 "nbformat": 4,
 "nbformat_minor": 2
}
